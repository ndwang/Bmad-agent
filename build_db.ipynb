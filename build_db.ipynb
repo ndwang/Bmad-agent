{
 "cells": [
  {
   "cell_type": "code",
   "execution_count": 1,
   "metadata": {},
   "outputs": [],
   "source": [
    "documents = [\"bmad_doc/bmad-manual.pdf\"]"
   ]
  },
  {
   "cell_type": "code",
   "execution_count": 7,
   "metadata": {},
   "outputs": [],
   "source": [
    "%load_ext autoreload\n",
    "%autoreload 1\n",
    "import glob\n",
    "import os\n",
    "%aimport clean\n",
    "\n",
    "tex_files = glob.glob(\"bmad_doc/*.tex\")\n",
    "for file in tex_files:\n",
    "    filename_base = os.path.splitext(os.path.basename(file))[0]\n",
    "    \n",
    "    # Create the output file path\n",
    "    output_file = os.path.join(\"clean_bmad_doc\", f\"{filename_base}.txt\")\n",
    "    \n",
    "    # Process the file\n",
    "    clean.clean_latex_file(file, output_file)"
   ]
  },
  {
   "cell_type": "code",
   "execution_count": 8,
   "metadata": {},
   "outputs": [],
   "source": [
    "from langchain.document_loaders import DirectoryLoader, TextLoader\n",
    "\n",
    "# Example: Load all PDFs from a directory\n",
    "loader = DirectoryLoader(\n",
    "    \"clean_bmad_doc\",\n",
    "    glob=\"**/*.txt\",\n",
    "    loader_cls=TextLoader,\n",
    "    loader_kwargs={\"encoding\": \"utf-8\"}\n",
    ")\n",
    "documents = loader.load()"
   ]
  },
  {
   "cell_type": "code",
   "execution_count": 17,
   "metadata": {},
   "outputs": [],
   "source": [
    "from langchain.text_splitter import RecursiveCharacterTextSplitter\n",
    "\n",
    "text_splitter = RecursiveCharacterTextSplitter(\n",
    "    chunk_size=2048,  # Adjust based on your needs\n",
    "    chunk_overlap=100,\n",
    "    separators=[\n",
    "        \n",
    "        \"\\n\\n\",\n",
    "        \"\\n\",\n",
    "        \" \",\n",
    "        \"\"\n",
    "    ]\n",
    ")\n",
    "texts = text_splitter.split_documents(documents)"
   ]
  },
  {
   "cell_type": "code",
   "execution_count": 18,
   "metadata": {},
   "outputs": [
    {
     "name": "stdout",
     "output_type": "stream",
     "text": [
      "The general syntax for an expression based \"group\" element is\n",
      "  name: GROUP = {ele1[attrib1]:exp1, ele2[attrib2]:exp2, ...}, \n",
      "          VAR = {var1, var2, ...}, var1 = init_val1, \n",
      "          old_var1 = old_init_val1, ..., GANG = logical, ...\n",
      "For an expression based \"overlay\" element, the syntax is identical except OVERLAY is\n",
      "substituted for GROUP and there are no old values to set:\n",
      "  name: OVERLAY = {ele1[attrib1]:exp1, ele2[attrib2]:exp2, ...}, \n",
      "          VAR = {var1, var2, ...}, var1 = init_val1, GANG = logical, ...\n",
      "For an expression based \"ramper\" element, the syntax is identical to the \"overlay\" element\n",
      "except \"RAMPER\" is used in place of \"OVERLAY\" and there is no \"GANG\" attribute.\n",
      "\n",
      "In the above, \"Name\" is the name of the controller element, \"ele1\", \"ele2\", ... are the\n",
      "elements whose attributes are to be controlled, \"attrib1\", \"attrib2\", etc. are the controlled\n",
      "attributes (called \"slave\" attributes), \"var1\", \"var2\", etc. are the control variables, and\n",
      "\"exp1\", \"exp2\", etc. are the arithmetical expressions that define the relationship between the\n",
      "variables and the slave attributes. Example:\n",
      "  gr1: group = {q1[k1]:-tan(a)*b, q2[tilt]:b^2}, var = {a, b}\n",
      "\n",
      "The function \"ran()\" and \"ran_gauss()\" may be used in expressions with \"ramper\" elements but\n",
      "may not be used for other types of controllers. These functions can be useful with long-term tracking\n",
      "to simulate such things as ground noise or RF jitter. Example\n",
      "  rf_noise: ramper = {rfcavity::*[phi0]: 1e-4*ran_gauss()}, var = { }\n",
      "Notice that the expression does not depend upon any variables and the variable list is empty. An empty\n",
      "variable list is permissible only if all slave expressions involve \"ran()\" or \"ran_gauss()\".\n",
      "With an empty variable list, Bmad will define a variable for the \"ramper\" called \"null\" to serve\n",
      "as a place holder for bookkeeping purposes.\n"
     ]
    }
   ],
   "source": [
    "print(texts[3].page_content)"
   ]
  },
  {
   "cell_type": "code",
   "metadata": {},
   "outputs": [],
   "source": "from langchain_community.embeddings import HuggingFaceEmbeddings\n\nembeddings = HuggingFaceEmbeddings(\n    model_name=\"sentence-transformers/all-MiniLM-L6-v2\"  # Lightweight local model\n)"
  },
  {
   "cell_type": "code",
   "metadata": {},
   "outputs": [],
   "source": "from langchain_community.vectorstores import FAISS\n\nvector_store = FAISS.from_documents(texts, embeddings)\nvector_store.save_local(\"faiss_tex\")"
  },
  {
   "cell_type": "code",
   "metadata": {},
   "outputs": [],
   "source": "from langchain_community.vectorstores import FAISS\nfrom langchain_community.embeddings import HuggingFaceEmbeddings\nembeddings = HuggingFaceEmbeddings(\n    model_name=\"sentence-transformers/all-MiniLM-L6-v2\"\n)\nvector_store = FAISS.load_local(\"faiss_tex\", embeddings,allow_dangerous_deserialization=True)"
  },
  {
   "cell_type": "code",
   "execution_count": 2,
   "metadata": {},
   "outputs": [],
   "source": [
    "retriever = vector_store.as_retriever(search_kwargs={\"k\": 5})  # Fetch top k results"
   ]
  },
  {
   "cell_type": "code",
   "execution_count": 5,
   "metadata": {},
   "outputs": [
    {
     "name": "stdout",
     "output_type": "stream",
     "text": [
      "\n",
      "!--------------------\n",
      "\n",
      "%---------------------------------------------------------------------------------\n",
      "%---------------------------------------------------------------------------------\n",
      "\\section{Quadrupole Tracking}\n",
      "\\label{s:quadrupole.std}\n",
      "\\index{quadrupole}\n",
      "\n",
      "The \\vn{bmad_standard} calculates the transfer map through an upright\n",
      "quadrupole and then transforms that map to the laboratory frame.\n",
      "\n",
      "!--------------------\n",
      "\n",
      "\\begin{example}\n",
      "  tracking_method      = <Switch>   ! phase space tracking method.\n",
      "  mat6_calc_method     = <Switch>   ! 6x6 transfer matrix calculation.\n",
      "  spin_tracking_method = <Switch>   ! Spin tracking method.\n",
      "\\end{example}\n",
      "Example:\n",
      "\\begin{example}\n",
      "  q2: quadrupole, tracking_method = symp_lie_ptc\n",
      "  q2[tracking_method] = symp_lie_ptc\n",
      "  quadrupole::*[tracking_method] = symp_lie_ptc\n",
      "\\end{example}\n",
      "The first two lines of this example have exactly the same effect in terms of setting the\n",
      "\\vn{tracking_method}. The third line shows how to set the \\vn{tracking_method} for an entire class\n",
      "of elements.\n",
      "\n",
      "!--------------------\n",
      "\n",
      "With \\vn{field_calc} set to \\vn{planar_model}, and with \\vn{bmad_standard} tracking\n",
      "(\\sref{c:methods}), the horizontal and vertical focusing is assumed small. The vertical motion is\n",
      "modeled as a combination focusing quadrupole and focusing octupole giving a kick (modified from \\cite{b:corbett})\n",
      "\\begin{equation}\n",
      "  \\frac{dp_y}{dz} = k_{1y} \\left( y + \\frac{2}{3} \\, k_y^2 \\, y^3 \\right)\n",
      "  \\label{pyzk1}\n",
      "\\end{equation}\n",
      "where\n",
      "\\begin{alignat}{2}\n",
      "  g_\\text{max} &= \\frac{e \\, B_{\\max}}{P_0 \\, (1 + p_z)} \\\\\n",
      "  k_{1y} &= \\frac{-k_y^2}{2 \\, k_z^2} \\, g_\\text{max}^2 \n",
      "\\end{alignat}\n",
      "with \\vn{k1y} (a dependent element attribute) being the linear focusing constant. \n",
      "\n",
      "The averaged horizontal motion is\n",
      "\\begin{equation}\n",
      "  \\frac{dp_x}{dz} = k_{1x} \\, x\n",
      "  \\label{pxzk1}\n",
      "\\end{equation}\n",
      "with\n",
      "\\begin{equation}\n",
      "  k_{1x} = \\frac{k_x^2}{2 \\, k_z^2} \\, g_\\text{max}^2 \n",
      "\\end{equation}\n",
      "\n",
      "!--------------------\n",
      "\n",
      "The Hamiltonian for an upright quadrupole is\n",
      "\\begin{equation}\n",
      "  H = \\frac{p_x^2 + p_y^2}{2 (1 + p_z)} + \\frac{k_1}{2} (x^2 - y^2)\n",
      "\\end{equation}\n",
      "This is simply solved\n",
      "\\begin{align}\n",
      "  x_2    &= c_x \\, x_1 + s_x \\, \\frac{p_{x1}}{1 + p_{z1}} \\CRNO\n",
      "  p_{x2} &= \\tau_x \\, \\om^2 \\, \\, (1 + p_{z1}) \\, s_x \\, x_1 + c_x \\, p_{x1} \\CRNO\n",
      "  y_2    &= c_y \\, y_1 + s_y \\, \\frac{p_{y1}}{1 + p_{z1}} \\CRNO\n",
      "  p_{y2} &= \\tau_y \\, \\om^2 \\, \\, (1 + p_{z1}) \\, s_y \\, y_1 + c_y \\, p_{y1} \\\\\n",
      "  z_2    &= z_1 + m_{511} \\, x_1^2 + m_{512} \\, x_1 \\, p_{x1} + m_{522} \\, p_{x1}^2 + \n",
      "                   m_{533} \\, y_1^2 + m_{534} \\, y_1 \\, p_{y1} + m_{544} \\, p_{y1}^2 \\CRNO\n",
      "  p_{z2} &= p_{z1} \\nonumber\n",
      "\\end{align}\n",
      "where \n",
      "\\begin{equation}\n",
      "  \\om \\equiv \\sqrt{\\frac{|k_1|}{1 + p_{z1}}}\n",
      "\\end{equation}\n",
      "and\n",
      "\\begin{alignat}{6}\n",
      "         &\\hspace*{3ex}  && k_1 > 0          &\\hspace*{3ex}& k_1 < 0 & \\qqquad\n",
      "         &\\hspace*{3ex}  && k_1 > 0          &\\hspace*{3ex}& k_1 < 0 \\CRNO\n",
      "     c_x &=   && \\cos  (\\om \\, L) && \\cosh (\\om \\, L) & \\qqquad\n",
      "\n",
      "!--------------------\n",
      "\n",
      "uses the curvilinear coordinate system with the $z$-axis along the arc of the bend. If the length\n",
      "of an integration step is made small, this difference will go to zero.\n",
      "  }\n",
      "When there are quadrupole or higher order fields, the fields are centered about the reference frame\n",
      "set by \\vn{ptc_field_geometry}. Since \\bmad based tracking does not implement \\vn{straight} geometry\n",
      "tracking, \\bmad and PTC tracking will show marked differences when \\vn{ptc_field_geometry} is set to\n",
      "\\vn{straight}.\n"
     ]
    }
   ],
   "source": [
    "# Test query\n",
    "query = \"quadrupole tracking methods\"\n",
    "results = retriever.invoke(query)\n",
    "\n",
    "# Check retrieved text\n",
    "for doc in results:\n",
    "    print('\\n!--------------------\\n')\n",
    "    print(doc.page_content)\n"
   ]
  },
  {
   "cell_type": "code",
   "execution_count": null,
   "metadata": {},
   "outputs": [],
   "source": []
  }
 ],
 "metadata": {
  "kernelspec": {
   "display_name": "Python 3 (ipykernel)",
   "language": "python",
   "name": "python3"
  },
  "language_info": {
   "codemirror_mode": {
    "name": "ipython",
    "version": 3
   },
   "file_extension": ".py",
   "mimetype": "text/x-python",
   "name": "python",
   "nbconvert_exporter": "python",
   "pygments_lexer": "ipython3",
   "version": "3.11.11"
  }
 },
 "nbformat": 4,
 "nbformat_minor": 4
}